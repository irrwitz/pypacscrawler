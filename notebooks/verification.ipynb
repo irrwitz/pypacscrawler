{
 "cells": [
  {
   "cell_type": "code",
   "execution_count": 36,
   "metadata": {},
   "outputs": [
    {
     "name": "stdout",
     "output_type": "stream",
     "text": [
      "['./data/data-2016-01-01-CT.csv', './data/data-2016-01-02-CT.csv', './data/data-2016-01-03-CT.csv', './data/data-2016-01-04-CT.csv', './data/data-2016-01-05-CT.csv', './data/data-2016-01-06-CT.csv', './data/data-2016-01-07-CT.csv', './data/data-2016-01-08-CT.csv', './data/data-2016-01-09-CT.csv', './data/data-2016-01-10-CT.csv']\n",
      "('./data/data-2016-01-01-CT.csv', 57)\n",
      "('./data/data-2016-01-02-CT.csv', 43)\n",
      "('./data/data-2016-01-03-CT.csv', 42)\n",
      "('./data/data-2016-01-04-CT.csv', 137)\n",
      "('./data/data-2016-01-05-CT.csv', 112)\n",
      "('./data/data-2016-01-06-CT.csv', 139)\n",
      "('./data/data-2016-01-07-CT.csv', 121)\n",
      "('./data/data-2016-01-08-CT.csv', 126)\n",
      "('./data/data-2016-01-09-CT.csv', 46)\n",
      "('./data/data-2016-01-10-CT.csv', 29)\n"
     ]
    }
   ],
   "source": [
    "import glob\n",
    "import pandas as pd\n",
    "\n",
    "files = glob.glob('./data/*.csv')\n",
    "print(files)\n",
    "\n",
    "for f in files:\n",
    "    df = pd.read_csv(f)\n",
    "    #print(f, df.duplicated())\n",
    "    acc_number_series = df.AccessionNumber.unique()\n",
    "    print(f, len(acc_number_series))"
   ]
  }
 ],
 "metadata": {
  "kernelspec": {
   "display_name": "Python [gl-env]",
   "language": "python",
   "name": "Python [gl-env]"
  },
  "language_info": {
   "codemirror_mode": {
    "name": "ipython",
    "version": 2
   },
   "file_extension": ".py",
   "mimetype": "text/x-python",
   "name": "python",
   "nbconvert_exporter": "python",
   "pygments_lexer": "ipython2",
   "version": "2.7.11"
  }
 },
 "nbformat": 4,
 "nbformat_minor": 1
}
